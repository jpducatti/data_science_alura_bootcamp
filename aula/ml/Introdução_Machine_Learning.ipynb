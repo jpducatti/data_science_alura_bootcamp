{
  "nbformat": 4,
  "nbformat_minor": 0,
  "metadata": {
    "colab": {
      "name": "Introdução Machine Learning",
      "provenance": []
    },
    "kernelspec": {
      "name": "python3",
      "display_name": "Python 3"
    }
  },
  "cells": [
    {
      "cell_type": "markdown",
      "metadata": {
        "id": "l6KctVR7okK_"
      },
      "source": [
        "Vamos fazer uma introdução simples do machine learning"
      ]
    },
    {
      "cell_type": "code",
      "metadata": {
        "id": "m2FD61FFovpX"
      },
      "source": [
        "#tem pelo longo? 0 ou 1\n",
        "#perna curta? 0 ou 1\n",
        "#faz auau? 0 ou 1\n",
        "\n",
        "porco1 = [0,1,0]\n",
        "porco2 = [0,1,1]\n",
        "porco3 = [1,1,0]\n",
        "\n",
        "cachorro1 = [0,1,1]\n",
        "cachorro2 = [1,0,1]\n",
        "cachorro3 = [1,1,1]\n",
        "\n",
        "#agora vamos \"treinar\" nosso algoritmo ensinando ele se é ou não porco \n",
        "\n",
        "treino_x = [porco1,porco2,porco3,cachorro1,cachorro2,cachorro3] #x comos e fosse uma função f(x)=y que mapeia as variáveis, nesse caso pelo longo, perna curta e faz auau, e retorna y\n",
        "treino_y = [1,1,1,0,0,0]  #retorno da função\n",
        "\n",
        "\n"
      ],
      "execution_count": null,
      "outputs": []
    },
    {
      "cell_type": "markdown",
      "metadata": {
        "id": "Jlsbqz9a7q7i"
      },
      "source": [
        "https://scikit-learn.org/stable/modules/generated/sklearn.svm.LinearSVC.html"
      ]
    },
    {
      "cell_type": "code",
      "metadata": {
        "colab": {
          "base_uri": "https://localhost:8080/"
        },
        "id": "pMnU89t5rOVQ",
        "outputId": "9dc0bb3d-5f92-4af6-ff01-6ed45bb35686"
      },
      "source": [
        "from sklearn.svm import LinearSVC\n",
        "\n",
        "\n",
        "modelo = LinearSVC()\n",
        "modelo.fit(treino_x,treino_y)"
      ],
      "execution_count": null,
      "outputs": [
        {
          "output_type": "execute_result",
          "data": {
            "text/plain": [
              "LinearSVC(C=1.0, class_weight=None, dual=True, fit_intercept=True,\n",
              "          intercept_scaling=1, loss='squared_hinge', max_iter=1000,\n",
              "          multi_class='ovr', penalty='l2', random_state=None, tol=0.0001,\n",
              "          verbose=0)"
            ]
          },
          "metadata": {
            "tags": []
          },
          "execution_count": 44
        }
      ]
    },
    {
      "cell_type": "code",
      "metadata": {
        "colab": {
          "base_uri": "https://localhost:8080/"
        },
        "id": "Sq49QICcrQer",
        "outputId": "f5f9f0b7-0f4e-48fc-9a50-3baecc3d1743"
      },
      "source": [
        "# 0 = cachorro; 1 = não-cachorro (porco)\n",
        "\n",
        "animal_misterioso = [1,1,1]\n",
        "modelo.predict([animal_misterioso])"
      ],
      "execution_count": null,
      "outputs": [
        {
          "output_type": "execute_result",
          "data": {
            "text/plain": [
              "array([0])"
            ]
          },
          "metadata": {
            "tags": []
          },
          "execution_count": 45
        }
      ]
    },
    {
      "cell_type": "markdown",
      "metadata": {
        "id": "gQTF5-B921NE"
      },
      "source": [
        "Com o modelo já treinado pelos databases anteriores, vamos aplicar esse modelo em novos dados e avaliar seu resultado"
      ]
    },
    {
      "cell_type": "code",
      "metadata": {
        "id": "UJ6DjSjExdqy"
      },
      "source": [
        "misterio_1 = [1,1,1]\n",
        "misterio_2 = [1,1,0]\n",
        "misterio_3 = [0,1,1]\n",
        "\n",
        "teste_x = [misterio_1,misterio_2,misterio_3]\n",
        "teste_y  = [0,1,1]"
      ],
      "execution_count": null,
      "outputs": []
    },
    {
      "cell_type": "code",
      "metadata": {
        "colab": {
          "base_uri": "https://localhost:8080/"
        },
        "id": "tPINxmNQ17tD",
        "outputId": "803d657f-c536-4053-8a61-c698338ae814"
      },
      "source": [
        "previsoes = modelo.predict(teste_x)\n",
        "previsoes"
      ],
      "execution_count": null,
      "outputs": [
        {
          "output_type": "execute_result",
          "data": {
            "text/plain": [
              "array([0, 1, 0])"
            ]
          },
          "metadata": {
            "tags": []
          },
          "execution_count": 47
        }
      ]
    },
    {
      "cell_type": "code",
      "metadata": {
        "colab": {
          "base_uri": "https://localhost:8080/"
        },
        "id": "QrjKQdB32HRh",
        "outputId": "fea12a72-78f6-4f27-eede-de24e0afe850"
      },
      "source": [
        "from sklearn.metrics import accuracy_score\n",
        "\n",
        "accuracy_score(teste_y,previsoes)"
      ],
      "execution_count": null,
      "outputs": [
        {
          "output_type": "execute_result",
          "data": {
            "text/plain": [
              "0.6666666666666666"
            ]
          },
          "metadata": {
            "tags": []
          },
          "execution_count": 48
        }
      ]
    },
    {
      "cell_type": "markdown",
      "metadata": {
        "id": "Mt_CRoiJ2kJX"
      },
      "source": [
        "Teste com o Modelo Dummy Classifier para comparar com o LinearSVC\n",
        "https://scikit-learn.org/stable/modules/generated/sklearn.dummy.DummyClassifier.html\n"
      ]
    },
    {
      "cell_type": "code",
      "metadata": {
        "colab": {
          "base_uri": "https://localhost:8080/"
        },
        "id": "xB7WNfuI6YfX",
        "outputId": "132a0fe2-3759-4395-f1dd-036ead4c71ea"
      },
      "source": [
        "from sklearn.dummy import DummyClassifier\n",
        "\n",
        "modelo_dummy = DummyClassifier()\n",
        "modelo_dummy.fit(treino_x,treino_y)"
      ],
      "execution_count": null,
      "outputs": [
        {
          "output_type": "stream",
          "text": [
            "/usr/local/lib/python3.6/dist-packages/sklearn/dummy.py:132: FutureWarning: The default value of strategy will change from stratified to prior in 0.24.\n",
            "  \"stratified to prior in 0.24.\", FutureWarning)\n"
          ],
          "name": "stderr"
        },
        {
          "output_type": "execute_result",
          "data": {
            "text/plain": [
              "DummyClassifier(constant=None, random_state=None, strategy='warn')"
            ]
          },
          "metadata": {
            "tags": []
          },
          "execution_count": 61
        }
      ]
    },
    {
      "cell_type": "code",
      "metadata": {
        "colab": {
          "base_uri": "https://localhost:8080/"
        },
        "id": "w01PBhEi625r",
        "outputId": "d3dd90e5-6998-471a-f824-10f96c737d33"
      },
      "source": [
        "previsao_dummy = modelo_dummy.predict(teste_x)\n",
        "previsao_dummy"
      ],
      "execution_count": null,
      "outputs": [
        {
          "output_type": "execute_result",
          "data": {
            "text/plain": [
              "array([1, 0, 1])"
            ]
          },
          "metadata": {
            "tags": []
          },
          "execution_count": 62
        }
      ]
    },
    {
      "cell_type": "code",
      "metadata": {
        "colab": {
          "base_uri": "https://localhost:8080/"
        },
        "id": "KM9vyl_j7JMi",
        "outputId": "7b02cc5f-875a-4efa-e0f3-8ba5c19fb4dd"
      },
      "source": [
        "accuracy_score(teste_y,previsao_dummy)"
      ],
      "execution_count": null,
      "outputs": [
        {
          "output_type": "execute_result",
          "data": {
            "text/plain": [
              "0.3333333333333333"
            ]
          },
          "metadata": {
            "tags": []
          },
          "execution_count": 63
        }
      ]
    }
  ]
}